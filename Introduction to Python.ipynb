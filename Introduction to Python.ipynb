{
 "cells": [
  {
   "cell_type": "markdown",
   "id": "0e0133fc-dc4f-48f1-a4db-86a4c8c72d08",
   "metadata": {},
   "source": [
    "# Introduction to Python\n",
    "\n",
    "This Jupyter notebook provides a summary of the basics of Python. It is essential for completing your computer homework assignments in this course. Feel free to ask your questions to your teaching assistants.\n",
    "\n",
    "## Install\n",
    "\n",
    "You can download Python from the following [link](https://www.python.org/downloads/?ref=blog.latitude.so).<br>If your installation was completed correctly, you can verify it by running the following command in your terminal: `python --version`\n",
    "\n",
    "## Python Indentation\n",
    "\n",
    "Indentation in Python is crucial as it defines the structure and flow of the code. Unlike many other programming languages that use braces or keywords, Python uses indentation to indicate blocks of code."
   ]
  },
  {
   "cell_type": "code",
   "execution_count": null,
   "id": "600887ac-160d-4c8e-b74f-69ed59d47710",
   "metadata": {},
   "outputs": [],
   "source": [
    "# Correct indentation with a function and if statement\n",
    "def greet(name):\n",
    "    if name:\n",
    "        print(f\"Hello, {name}!\")  # Indented correctly within the if block\n",
    "    else:\n",
    "        print(\"Hello, World!\")    # Indented correctly within the else block\n",
    "greet(\"Alice\")"
   ]
  },
  {
   "cell_type": "markdown",
   "id": "ef11e8e4-ae16-4bd4-ac32-23a20c25dcca",
   "metadata": {},
   "source": [
    "The number of spaces is up to you as a programmer, the most common use is four, but it has to be at least one."
   ]
  },
  {
   "cell_type": "code",
   "execution_count": null,
   "id": "1f1f3bba-52f1-4648-91f9-43b9a280a64c",
   "metadata": {},
   "outputs": [],
   "source": [
    "if 5 > 2:\n",
    " print(\"Five is greater than two!\") \n",
    "if 5 > 2:\n",
    "        print(\"Five is greater than two!\")"
   ]
  },
  {
   "cell_type": "code",
   "execution_count": null,
   "id": "be97bce7-c028-4474-bf5d-5b65a84ea7f2",
   "metadata": {},
   "outputs": [],
   "source": [
    "if 5 > 2:\n",
    " print(\"Five is greater than two!\")\n",
    "     print(\"Five is greater than two!\")"
   ]
  },
  {
   "cell_type": "markdown",
   "id": "bf6ce566-3d45-4be6-ba35-141ca950994c",
   "metadata": {},
   "source": [
    "## Variables\n",
    "\n",
    "Variables in Python are used to store data that can be used and manipulated within your code. They act as containers for values, which can be of various types, such as numbers, strings, lists, or other data types. You don’t need to declare a variable type explicitly; Python determines the type based on the assigned value.\n",
    "\n",
    "### Key Points:\n",
    "\n",
    "* Variable names should be descriptive, use letters, numbers, and underscores, and cannot start with a number.\n",
    "* Python is dynamically typed, so you can change the type of a variable by assigning different type.\n",
    "\n"
   ]
  },
  {
   "cell_type": "code",
   "execution_count": null,
   "id": "c0d99d2f-3230-45e7-979c-76a38a0863ab",
   "metadata": {},
   "outputs": [],
   "source": [
    "# Variables in Python\n",
    "name = \"Alice\"        # A string variable\n",
    "age = 30              # An integer variable\n",
    "height = 5.7          # A float variable\n",
    "is_student = True     # A boolean variable\n",
    "\n",
    "print(name, age, height, is_student)"
   ]
  },
  {
   "cell_type": "markdown",
   "id": "e8451e59-d2dc-40ac-93e3-1965b6b82753",
   "metadata": {},
   "source": [
    "* Casting"
   ]
  },
  {
   "cell_type": "code",
   "execution_count": null,
   "id": "b14dfc09-9514-41fa-bafa-7bfa6791b5c4",
   "metadata": {},
   "outputs": [],
   "source": [
    "x = str(3)    # x will be '3'\n",
    "y = int(3)    # y will be 3\n",
    "z = float(3)  # z will be 3.0\n",
    "print(x,y,z)"
   ]
  },
  {
   "cell_type": "markdown",
   "id": "bdc7f76a-b78a-44ef-9722-6218e33361dd",
   "metadata": {},
   "source": [
    "* Case-Sensitive"
   ]
  },
  {
   "cell_type": "code",
   "execution_count": null,
   "id": "3b913adc-196b-4390-aecd-ac0dcf67eeb8",
   "metadata": {},
   "outputs": [],
   "source": [
    "a = 4\n",
    "A = \"Sally\"\n",
    "#A will not overwrite a\n",
    "print(a,A)"
   ]
  },
  {
   "cell_type": "markdown",
   "id": "e5658ef4-288a-4218-97f1-a8cb15459247",
   "metadata": {},
   "source": [
    "* Many Values to Multiple Variables"
   ]
  },
  {
   "cell_type": "code",
   "execution_count": null,
   "id": "47ea943a-ce06-4ea0-bd6c-fc2b4b4f2956",
   "metadata": {},
   "outputs": [],
   "source": [
    "x, y, z = \"Orange\", \"Banana\", \"Cherry\"\n",
    "print(x)\n",
    "print(y)\n",
    "print(z)\n",
    "\n",
    "fruits = [\"apple\", \"banana\", \"cherry\"]\n",
    "x, y,z = fruits\n",
    "print(x)\n",
    "print(y)\n",
    "print(z)"
   ]
  },
  {
   "cell_type": "markdown",
   "id": "b06aad59-982f-4910-a41e-f41f80a22ae0",
   "metadata": {},
   "source": [
    "## Comments\n",
    "\n",
    "Comments in Python are used to explain code and make it more readable for humans. They are ignored by the Python interpreter and do not affect the program’s execution. Comments are especially useful for documenting code, explaining complex logic, or marking sections for future reference.\n",
    "\n",
    "### Types of Comments:\n",
    "\n",
    "* Single-line comments: Start with # and continue to the end of the line.\n",
    "* Multi-line comments: Use triple quotes (''' or \"\"\") for comments spanning multiple lines.\n",
    "    "
   ]
  },
  {
   "cell_type": "code",
   "execution_count": null,
   "id": "b35c39a3-9f49-42d8-92c6-764ab481bc34",
   "metadata": {},
   "outputs": [],
   "source": [
    "# This is a single-line comment\n",
    "# It explains the purpose of the next line of code\n",
    "name = \"Alice\"  # This variable stores the user's name\n",
    "\n",
    "\"\"\"\n",
    "This is a multi-line comment.\n",
    "It can span multiple lines and is often used for longer descriptions.\n",
    "Below is a print statement.\n",
    "fafjlsajfld\n",
    "dsfjeworjdjadfs\n",
    "goeitojjwe\n",
    "9 \n",
    "True\n",
    "\"\"\"\n",
    "print(name)"
   ]
  },
  {
   "cell_type": "markdown",
   "id": "4425403c-1e6b-4ea3-9c12-a51ee188482b",
   "metadata": {},
   "source": [
    "* Global Variables"
   ]
  },
  {
   "cell_type": "code",
   "execution_count": null,
   "id": "84c29b6a-994d-458d-ba94-cc927a8d8207",
   "metadata": {},
   "outputs": [],
   "source": [
    "x = \"awesome\"\n",
    "\n",
    "def myfunc():\n",
    "  x = \"fantastic\"\n",
    "  print(\"Python is \" + x)\n",
    "\n",
    "myfunc()\n",
    "\n",
    "print(\"Python is \" + x)\n"
   ]
  },
  {
   "cell_type": "markdown",
   "id": "e0af9cc5-a6d9-4fef-9e68-fb8334410232",
   "metadata": {},
   "source": [
    "## Operators\n",
    "\n",
    "Python divides the operators in the following groups:\n",
    "\n",
    "* Arithmetic operators\n",
    "* Assignment operators\n",
    "* Comparison operators\n",
    "* Logical operators\n",
    "* Identity operators\n",
    "* Membership operators\n",
    "* Bitwise operators"
   ]
  },
  {
   "cell_type": "code",
   "execution_count": null,
   "id": "a5dd803a-6d29-4aa1-9008-708adcfe7bbd",
   "metadata": {},
   "outputs": [],
   "source": [
    "# Arithmetic Operations in Python\n",
    "\n",
    "a = 10\n",
    "b = 3\n",
    "\n",
    "# Addition\n",
    "addition = a + b\n",
    "print(f\"Addition: {a} + {b} = {addition}\")\n",
    "\n",
    "# Subtraction\n",
    "subtraction = a - b\n",
    "print(f\"Subtraction: {a} - {b} = {subtraction}\")\n",
    "\n",
    "# Multiplication\n",
    "multiplication = a * b\n",
    "print(f\"Multiplication: {a} * {b} = {multiplication}\")\n",
    "\n",
    "# Division\n",
    "division = a / b\n",
    "print(f\"Division: {a} / {b} = {division}\")\n",
    "\n",
    "# Floor Division\n",
    "floor_division = a // b\n",
    "print(f\"Floor Division: {a} // {b} = {floor_division}\")\n",
    "\n",
    "# Modulus\n",
    "modulus = a % b\n",
    "print(f\"Modulus: {a} % {b} = {modulus}\")\n",
    "\n",
    "# Exponentiation\n",
    "exponentiation = a ** b\n",
    "print(f\"Exponentiation: {a} ** {b} = {exponentiation}\")"
   ]
  },
  {
   "cell_type": "code",
   "execution_count": null,
   "id": "06c881b0-5ab0-44f7-b722-fab3e53403bb",
   "metadata": {},
   "outputs": [],
   "source": [
    "# Assignment Operators in Python\n",
    "\n",
    "x = 10  # Simple assignment\n",
    "print(f\"x = {x}\")\n",
    "\n",
    "# Addition assignment\n",
    "x += 5  # Equivalent to x = x + 5\n",
    "print(f\"x += 5 -> {x}\")\n",
    "\n",
    "# Subtraction assignment\n",
    "x -= 3  # Equivalent to x = x - 3\n",
    "print(f\"x -= 3 -> {x}\")\n",
    "\n",
    "# Multiplication assignment\n",
    "x *= 2  # Equivalent to x = x * 2\n",
    "print(f\"x *= 2 -> {x}\")\n",
    "\n",
    "# Division assignment\n",
    "x /= 4  # Equivalent to x = x / 4\n",
    "print(f\"x /= 4 -> {x}\")\n",
    "\n",
    "# Floor Division assignment\n",
    "x //= 2  # Equivalent to x = x // 2\n",
    "print(f\"x //= 2 -> {x}\")\n",
    "\n",
    "# Modulus assignment\n",
    "x %= 3  # Equivalent to x = x % 3\n",
    "print(f\"x %= 3 -> {x}\")\n",
    "\n",
    "# Exponentiation assignment\n",
    "x **= 2  # Equivalent to x = x ** 2\n",
    "print(f\"x **= 2 -> {x}\")"
   ]
  },
  {
   "cell_type": "code",
   "execution_count": null,
   "id": "0ad137b2-7256-4e38-8dc2-9dd08fd2b542",
   "metadata": {},
   "outputs": [],
   "source": [
    "# Identity Operators in Python\n",
    "\n",
    "a = [1, 2, 3]\n",
    "b = a\n",
    "c = [1, 2, 3]\n",
    "\n",
    "# Using 'is' operator\n",
    "print(f\"a is b: {a is b}\")  # True because 'b' points to the same object as 'a'\n",
    "\n",
    "# Using 'is not' operator\n",
    "print(f\"a is not c: {a is not c}\")  # True because 'c' is a different object even though it has the same content\n",
    "\n",
    "# Checking objects with identical content but different memory locations\n",
    "print(f\"a == c: {a == c}\")  # True because the contents are the same\n",
    "print(f\"a is c: {a is c}\")  # False because they are not the same object"
   ]
  },
  {
   "cell_type": "code",
   "execution_count": null,
   "id": "958140b3-17f5-416d-8782-5cc4ce8ce5bc",
   "metadata": {},
   "outputs": [],
   "source": [
    "# Logical Operators in Python\n",
    "\n",
    "x = 10\n",
    "y = 5\n",
    "\n",
    "\n",
    "# Using 'and' operator\n",
    "print(f\"(x > 5) and (y < 10): {(x > 5) and (y < 10)}\")  # True because both conditions are true\n",
    "\n",
    "# Using 'or' operatoror\n",
    "print(f\"(x > 15) or (y < 10): {(x > 15)  (y < 10)}\")  # True because one of the conditions is true\n",
    "\n",
    "# Using 'not' operator\n",
    "print(f\"not (x > 5): {not (x > 5)}\")  # False because the condition (x > 5) is true, and 'not' reverses it"
   ]
  },
  {
   "cell_type": "code",
   "execution_count": null,
   "id": "06032676-d073-4a88-9bda-9884ebbb17c0",
   "metadata": {},
   "outputs": [],
   "source": [
    "# Membership Operators in Python\n",
    "\n",
    "# Sample data\n",
    "numbers = [1, 2, 3, 4, 5]\n",
    "text = \"Hello, World!\"\n",
    "\n",
    "# Using 'in' operator\n",
    "print(f\"3 in numbers: {3 in numbers}\")  # True because 3 is in the list\n",
    "\n",
    "# Using 'not in' operator\n",
    "print(f\"6 not in numbers: {6 not in numbers}\")  # True because 6 is not in the list\n",
    "\n",
    "# Checking with a string\n",
    "print(f\"'Hello' in text: {'Hello' in text}\")  # True because 'Hello' is a substring of the text\n",
    "\n",
    "# Using 'not in' with a string\n",
    "print(f\"'Python'  in text: {'Python'  in text}\")  # True because 'Python' is not in the text"
   ]
  },
  {
   "cell_type": "markdown",
   "id": "938a6e3e-9a13-4895-9617-a1668020ef6d",
   "metadata": {},
   "source": [
    "## Lists\n",
    "\n",
    "A list is one of the most versatile and commonly used data structures in Python. Lists are ordered, mutable (modifiable), and can contain a variety of data types, including numbers, strings, and even other lists. Lists are defined by placing elements inside square brackets ([]), separated by commas.\n",
    "\n",
    "Key Features of Lists:\n",
    "\n",
    "* Ordered: The elements in a list have a defined order that will not change unless you explicitly modify it.\n",
    "* Mutable: You can change, add, or remove items after the list is created.\n",
    "* Heterogeneous: A list can contain elements of different data types.\n",
    "* Indexing: Lists support indexing and slicing to access individual or multiple elements.\n"
   ]
  },
  {
   "cell_type": "code",
   "execution_count": null,
   "id": "69c70478-d36c-48e2-94f3-028860cdbb0e",
   "metadata": {},
   "outputs": [],
   "source": [
    "# Creating a list\n",
    "fruits = [\"apple\", \"banana\", \"cherry\"]\n",
    "print(f\"Original list: {fruits}\")\n",
    "\n",
    "print(fruits[2::-1])\n",
    "# Accessing elements\n",
    "print(f\"First element: {fruits[0]}\")  # Access the first element\n",
    "print(f\"Last element: {fruits[-1]}\")  # Access the last element using negative indexing\n",
    "\n",
    "# Modifying elements\n",
    "fruits[1] = \"blueberry\"\n",
    "print(f\"Modified list: {fruits}\")\n",
    "\n",
    "# Adding elements\n",
    "fruits.append(\"orange\")  # Adds an element at the end\n",
    "print(f\"List after append: {fruits}\")\n",
    "\n",
    "fruits.insert(1, \"grape\")  # Inserts an element at index 1\n",
    "print(f\"List after insert: {fruits}\")\n",
    "\n",
    "# Removing elements\n",
    "fruits.remove(\"cherry\")  # Removes the first occurrence of \"cherry\"\n",
    "print(f\"List after remove: {fruits}\")\n",
    "\n",
    "popped_fruit = fruits.pop()  # Removes and returns the last element\n",
    "print(f\"List after pop: {fruits}, Popped: {popped_fruit}\")\n",
    "\n",
    "#Slicing the list \n",
    "print(f\"Slice of the first two elements: {fruits[:2]}\")\n",
    "\n",
    "# Extending a list with another list\n",
    "more_fruits = [\"mango\", \"pineapple\"]\n",
    "fruits.extend(more_fruits)\n",
    "print(f\"List after extend: {fruits}\")\n",
    "\n",
    "# Cheking an item exist in list\n",
    "thislist = [\"apple\", \"banana\", \"cherry\"]\n",
    "if \"apple\" in thislist:\n",
    "  print(\"Yes, 'apple' is in the fruits list\")"
   ]
  },
  {
   "cell_type": "markdown",
   "id": "ec55ec7e-4f7b-4024-9d28-09b637e48299",
   "metadata": {},
   "source": [
    "* Loop Through a List"
   ]
  },
  {
   "cell_type": "code",
   "execution_count": null,
   "id": "d07d4d37-0b11-4dc0-8045-f9e75d9abaa5",
   "metadata": {},
   "outputs": [],
   "source": [
    "# Sample 1D list\n",
    "numbers = [1, 2, 3, 4, 5]\n",
    "\n",
    "# Using a for loop\n",
    "for num in numbers:\n",
    "    print(f\"Number: {num}\")\n",
    "\n",
    "# Using a for loop with index\n",
    "for index in range(len(numbers)):\n",
    "    print(f\"Index {index}: {numbers[index]}\")\n",
    "\n",
    "# Using a list comprehension (to create a new list)\n",
    "squared = [x**2 for x in numbers]\n",
    "print(f\"Squared numbers: {squared}\")"
   ]
  },
  {
   "cell_type": "code",
   "execution_count": null,
   "id": "e9798fdb-2029-46e4-b2ff-5cb3c8eafeb1",
   "metadata": {},
   "outputs": [],
   "source": [
    "# Sample 2D list (matrix)\n",
    "matrix = [\n",
    "    [1, 2, 3],\n",
    "    [4, 5, 6],\n",
    "    [7, 8, 9]\n",
    "]\n",
    "\n",
    "# Looping through rows\n",
    "print(\"Looping through rows:\")\n",
    "for row in matrix:\n",
    "    print(row)\n",
    "\n",
    "# Looping through rows and columns\n",
    "print(\"\\nLooping through rows and columns:\")\n",
    "for row in matrix:\n",
    "    for col in row:\n",
    "        print(col, end=' ')\n",
    "    print()  # Newline after each row\n",
    "\n",
    "# Looping with index access\n",
    "print(\"\\nLooping with index access:\")\n",
    "for i in range(len(matrix)):\n",
    "    for j in range(len(matrix[i])):\n",
    "        print(f\"Element at ({i},{j}): {matrix[i][j]}\")\n",
    "\n",
    "\n",
    "\n",
    "# Initialize column index\n",
    "col_index = 0\n",
    "\n",
    "# Get the number of columns\n",
    "num_cols = len(matrix[0])\n",
    "\n",
    "print(\"Looping through columns using a while loop:\")\n",
    "while col_index < num_cols:\n",
    "    # Collecting column elements using a list comprehension\n",
    "    column = [row[col_index] for row in matrix]\n",
    "    print(f\"Column {col_index}: {column}\")\n",
    "    col_index += 1"
   ]
  },
  {
   "cell_type": "markdown",
   "id": "32f6b5c2-6aeb-4319-ab37-c552c581b24a",
   "metadata": {},
   "source": [
    "* List Comprehension"
   ]
  },
  {
   "cell_type": "code",
   "execution_count": null,
   "id": "8fe2471d-242e-4cf2-9953-9ee16d8db433",
   "metadata": {},
   "outputs": [],
   "source": [
    "fruits = [\"apple\", \"banana\", \"cherry\", \"kiwi\", \"mango\"]\n",
    "newlist = []\n",
    "\n",
    "for x in fruits:\n",
    "  if \"a\" in x:\n",
    "    newlist.append(x)\n",
    "\n",
    "print(newlist)\n",
    "\n",
    "# Creating a list of squares using list comprehension\n",
    "squares = [x**2 for x in range(10)]\n",
    "print(squares)\n",
    "\n",
    "# Filtering even numbers using list comprehension\n",
    "even_numbers = [x for x in range(20) if x % 2 == 0]\n",
    "print(even_numbers)\n",
    "\n",
    "# Flattening a 2D list using nested list comprehension\n",
    "matrix = [[1, 2, 3], [4, 5, 6], [7, 8, 9]]\n",
    "flattened = [num for row in matrix for num in row]\n",
    "print(flattened)\n",
    "\n",
    "# Creating new list\n",
    "newlist = [x for x in range(10) if x < 5]\n",
    "print(newlist)"
   ]
  },
  {
   "cell_type": "markdown",
   "id": "8ba6ed45-6310-421f-87c2-06729463a43c",
   "metadata": {},
   "source": [
    "* Copy"
   ]
  },
  {
   "cell_type": "code",
   "execution_count": null,
   "id": "fd135587-af6e-433e-b13d-df7c636468e4",
   "metadata": {},
   "outputs": [],
   "source": [
    "# Assignment creates a reference, not a copy\n",
    "original = [1, 2, 3]\n",
    "copy = original\n",
    "copy.append(4)\n",
    "\n",
    "print(f\"Original: {original}\")  # Output: [1, 2, 3, 4]\n",
    "print(f\"Copy: {copy}\")          # Output: [1, 2, 3, 4]\n",
    "\n",
    "# Using the copy() method\n",
    "original = [1, 2, 3]\n",
    "copy = original.copy()\n",
    "copy.append(4)\n",
    "\n",
    "print(f\"Original: {original}\")  # Output: [1, 2, 3]\n",
    "print(f\"Copy: {copy}\")          # Output: [1, 2, 3, 4]"
   ]
  },
  {
   "cell_type": "markdown",
   "id": "cf83d95f-489d-4ffa-9b2f-c09476d20eff",
   "metadata": {},
   "source": [
    "## Tuples\n",
    "\n",
    "A tuple is a built-in data type in Python that is used to store an ordered collection of items, similar to lists. However, unlike lists, tuples are immutable, meaning their elements cannot be modified once they are created. Tuples are defined by placing the elements inside parentheses () and separated by commas. Tuples are commonly used to group related data together and ensure that the data remains constant throughout the program.\n",
    "\n",
    "Key Features of Tuples\n",
    "\n",
    "* Immutable: Once created, the elements of a tuple cannot be changed, added, or removed. This makes tuples useful for storing data that should not be modified.\n",
    "* Ordered: Tuples maintain the order of elements, meaning the position of each element is fixed.\n",
    "* Heterogeneous: Tuples can contain elements of different data types, such as integers, strings, and even other tuples.\n",
    "* Indexed: You can access elements in a tuple using indexing, similar to lists."
   ]
  },
  {
   "cell_type": "code",
   "execution_count": null,
   "id": "69d745f8-50a5-40a7-bd55-ff37cf760608",
   "metadata": {},
   "outputs": [],
   "source": [
    "# Creating a tuple with integers\n",
    "numbers = (1, 2, 3)\n",
    "print(numbers)  # Output: (1, 2, 3)\n",
    "\n",
    "# Creating a tuple without parentheses\n",
    "colors = 'red', 'green', 'blue'\n",
    "print(colors)  # Output: ('red', 'green', 'blue')\n",
    "\n",
    "# Creating a tuple from a list\n",
    "fruits = tuple(['apple', 'banana', 'cherry'])\n",
    "print(fruits)  # Output: ('apple', 'banana', 'cherry')\n",
    "\n",
    "# Accessing elements in a tuple\n",
    "animals = ('cat', 'dog', 'rabbit')\n",
    "print(animals[0])  # Output: 'cat'\n",
    "print(animals[-1])  # Output: 'rabbit'\n",
    "\n",
    "# Slicing a tuple\n",
    "print(animals[1:])  # Output: ('dog', 'rabbit')\n",
    "\n",
    "# Unpacking a tuple\n",
    "fruits = (\"apple\", \"banana\", \"cherry\")\n",
    "\n",
    "(green, yellow, red) = fruits\n",
    "\n",
    "print(green)\n",
    "print(yellow)\n",
    "print(red)"
   ]
  },
  {
   "cell_type": "markdown",
   "id": "6291eac8-c864-4861-b1ea-5598ab12c0a6",
   "metadata": {},
   "source": [
    "* Common Use Cases of Tuples"
   ]
  },
  {
   "cell_type": "code",
   "execution_count": null,
   "id": "35627a35-d350-44cd-87ab-292da9b5535f",
   "metadata": {},
   "outputs": [],
   "source": [
    "# Returning multiple values using a tuple\n",
    "def get_coordinates():\n",
    "    return (10, 20)\n",
    "\n",
    "x, y = get_coordinates()\n",
    "print(f\"x: {x}, y: {y}\")  # Output: x: 10, y: 20\n",
    "\n",
    "# Using tuples as dictionary keys\n",
    "location = {(40.7128, -74.0060): \"New York\", (34.0522, -118.2437): \"Los Angeles\"}\n",
    "print(location[(40.7128, -74.0060)])  # Output: \"New York\"\n",
    "\n",
    "# Storing related data in a tuple\n",
    "person = ('John Doe', 30, 'Engineer')\n",
    "print(person)  # Output: ('John Doe', 30, 'Engineer')"
   ]
  },
  {
   "cell_type": "markdown",
   "id": "6861d382-c078-49cd-935a-eaec121a8922",
   "metadata": {},
   "source": [
    "## Sets\n",
    "\n",
    "A set is a built-in data type in Python that is used to store an unordered collection of unique elements. Sets are mutable, meaning you can add or remove items, but each element must be unique and cannot be duplicated. Sets are commonly used for membership testing, removing duplicates from a list, and performing mathematical set operations like unions, intersections, and differences.\n",
    "\n",
    "Key Features of Sets\n",
    "\n",
    "* Unordered: Sets do not maintain any specific order of elements.\n",
    "* Unique Elements: A set automatically removes duplicate values, ensuring each element is unique.\n",
    "* Mutable: Elements can be added or removed from a set, but only immutable data types (like numbers, strings, and tuples) can be set elements.\n",
    "* No Indexing: Sets do not support indexing or slicing since they are unordered."
   ]
  },
  {
   "cell_type": "code",
   "execution_count": null,
   "id": "b1d331e6-c9a3-43c9-9def-c0060ceccc4c",
   "metadata": {},
   "outputs": [],
   "source": [
    "# Creating a set with integers\n",
    "numbers = {1, 2, 3, 4, 5 }\n",
    "print(numbers)  # Output: {1, 2, 3, 4, 5}\n",
    "\n",
    "colors = {'red', 'blue'}\n",
    "colors.add('green')\n",
    "print(colors)  # Output: {'red', 'blue', 'green'}\n",
    "\n",
    "set1 = {1, 2, 3}\n",
    "set2 = {3, 4, 5}\n",
    "print(set1.union(set2))  # Output: {1, 2, 3, 4, 5}"
   ]
  },
  {
   "cell_type": "markdown",
   "id": "126704eb-5c21-4e93-adbc-b6ed5e82279c",
   "metadata": {},
   "source": [
    "* Common Use Cases of Sets"
   ]
  },
  {
   "cell_type": "code",
   "execution_count": null,
   "id": "f189f07f-b676-4d5e-af9f-5f78def07d2f",
   "metadata": {},
   "outputs": [],
   "source": [
    "# Removing Duplicates\n",
    "numbers = [1, 2, 2, 3, 4, 4, 5]\n",
    "unique_numbers = set(numbers)\n",
    "print(unique_numbers)  # Output: {1, 2, 3, 4, 5}"
   ]
  },
  {
   "cell_type": "markdown",
   "id": "fd23a307-eed7-4565-a7c1-869c839146d3",
   "metadata": {},
   "source": [
    "## Dictionaries\n",
    "A dictionary is a built-in data type in Python that stores data in key-value pairs. Each key is unique and is used to access its corresponding value. Dictionaries are mutable, allowing you to add, remove, or change key-value pairs dynamically. They are highly versatile and commonly used for storing data that can be quickly looked up using a key.\n",
    "\n",
    "Key Features of Dictionaries\n",
    "\n",
    "* Key-Value Pairs: Each item in a dictionary consists of a key and its corresponding value, which can be of any data type.\n",
    "* Mutable: You can add, modify, or remove key-value pairs after the dictionary is created.\n",
    "* Keys Must Be Unique and Immutable: Keys must be of an immutable data type (e.g., strings, numbers, tuples) and cannot be duplicated.\n",
    "* Unordered: Prior to Python 3.7, dictionaries were unordered. From Python 3.7 onwards, dictionaries maintain the insertion order."
   ]
  },
  {
   "cell_type": "code",
   "execution_count": null,
   "id": "efe2891a-f842-41da-ad4a-d1226db9419a",
   "metadata": {},
   "outputs": [],
   "source": [
    "# Creating a dictionary with string keys\n",
    "person = {'name': 'Alice', 'age': 30 , 'city': 'New York'}\n",
    "print(person)  # Output: {'name': 'Alice', 'age': 30, 'city': 'New York'}\n",
    "\n",
    "# Accessing dictionary values\n",
    "print(person['name'])  # Output: 'Alice'\n",
    "\n",
    "# Using the get() method to avoid errors if the key is missing\n",
    "print(person.get('age'))  # Output: 30\n",
    "print(person.get('salary', 'Not Found'))  # Output: 'Not Found'\n",
    "\n",
    "person.update({'age': 31, 'job': 'Engineer'})\n",
    "print(person)  # Output: {'name': 'Alice', 'age': 31, 'city': 'New York', 'job': 'Engineer'}\n",
    "\n",
    "print(person.keys())   # Output: dict_keys(['name', 'city', 'job'])\n",
    "print(person.values()) # Output: dict_values(['Alice', 'New York', 'Engineer'])\n",
    "print(person.items())  # Output: dict_items([('name', 'Alice'), ('city', 'New York'), ('job', 'Engineer')])\n",
    "\n",
    "# The values in dictionary items can be of any data type\n",
    "thisdict = {\n",
    "  \"brand\": \"Ford\",\n",
    "  \"electric\": False,\n",
    "  \"year\": 1964,\n",
    "  \"colors\": [\"red\", \"white\", \"blue\"]\n",
    "}\n",
    "print(thisdict)\n",
    "\n",
    "# Loop in dictionary\n",
    "for x, y in thisdict.items():\n",
    "  print(x, y)"
   ]
  },
  {
   "cell_type": "markdown",
   "id": "68b534d9-e178-4953-bede-a4bc5552680a",
   "metadata": {},
   "source": [
    "* Common Use Cases of Dictionaries"
   ]
  },
  {
   "cell_type": "code",
   "execution_count": null,
   "id": "c9dc8c77-c901-4923-bc31-ca690cd2511a",
   "metadata": {},
   "outputs": [],
   "source": [
    "# Storing and Accessing Data by Key: Dictionaries are perfect for cases where data needs to be accessed by a unique identifier.\n",
    "students = {'A101': 'John', 'A102': 'Emma', 'A103': 'Alex'}\n",
    "print(students['A102'])  # Output: 'Emma'\n",
    "\n",
    "# Counting Occurrences: Dictionaries are used for counting the frequency of elements.\n",
    "word_count = {}\n",
    "words = ['apple', 'banana', 'apple', 'cherry']\n",
    "for word in words:\n",
    "    word_count[word] = word_count.get(word, 0) + 1\n",
    "print(word_count)  # Output: {'apple': 2, 'banana': 1, 'cherry': 1}\n",
    "\n",
    "# JSON-like Data Structures: Dictionaries are often used to represent structured data, similar to JSON objects."
   ]
  },
  {
   "cell_type": "markdown",
   "id": "63543cc7-9ecb-4432-9de9-f74bf076499a",
   "metadata": {},
   "source": [
    "## Conditions and If statements\n",
    "Python supports the usual logical conditions from mathematics:\n",
    "\n",
    "* Equals: `a == b`\n",
    "* Not Equals: `a != b`\n",
    "* Less than: `a < b`\n",
    "* Less than or equal to: `a <= b`\n",
    "* Greater than: `a > b`\n",
    "* Greater than or equal to: `a >= b`"
   ]
  },
  {
   "cell_type": "code",
   "execution_count": null,
   "id": "f5a11226-6ead-46fe-b3e5-5671b4b28de3",
   "metadata": {},
   "outputs": [],
   "source": [
    "# A simple if statement\n",
    "a = 200\n",
    "b = 33\n",
    "c = 10\n",
    "if b > a:\n",
    "  print(\"b is greater than a\")\n",
    "elif a == b:\n",
    "  print(\"a and b are equal\")\n",
    "else:\n",
    "  print(\"a is greater than b\")\n",
    "\n",
    "# Short hand if\n",
    "if a > b: print(\"a is greater than b\")\n",
    "\n",
    "print(\"A\") if a > b else print(\"B\")\n",
    "\n",
    "# Combine conditional statement\n",
    "if a > b and c > a:\n",
    "  print(\"Both conditions are True\")"
   ]
  },
  {
   "cell_type": "markdown",
   "id": "9baf74db-66c9-4a54-9333-4ebbdcdc0356",
   "metadata": {},
   "source": [
    "## For Loops\n",
    "\n",
    "#### The range() Function\n",
    "The `range()` function generates a sequence of numbers, which is often used with for loops."
   ]
  },
  {
   "cell_type": "code",
   "execution_count": null,
   "id": "11c54914-536d-45dc-bbd3-58561eaa4185",
   "metadata": {},
   "outputs": [],
   "source": [
    "for x in range(6):\n",
    "  print(x)\n",
    "\n",
    "for x in range(2, 6):\n",
    "  print(x)\n",
    "\n",
    "for x in range(2, 30, 3):\n",
    "  print(x)\n",
    "\n",
    "# Continue and break\n",
    "for x in range(6):\n",
    "  if x == 3: break\n",
    "  print(x)\n",
    "else:\n",
    "  print(\"Finally finished!\")\n",
    "\n",
    "for x in range(6):\n",
    "  if x == 3: continue\n",
    "  print(x)\n",
    "else:\n",
    "  print(\"Finally finished!\")"
   ]
  },
  {
   "cell_type": "markdown",
   "id": "ea52b6da-c5aa-471c-afb8-2e9f568f94bd",
   "metadata": {},
   "source": [
    "## Functions\n",
    "\n",
    "Functions are one of the fundamental building blocks in Python programming. A function is a reusable block of code that performs a specific task, allowing you to organize your code into logical, manageable, and modular units. Functions help reduce code duplication, make code more readable, and facilitate easier debugging and testing.\n",
    "\n",
    "Basic Syntax:"
   ]
  },
  {
   "cell_type": "code",
   "execution_count": 27,
   "id": "870ec762-b9a7-4f09-af70-5ded075f0512",
   "metadata": {},
   "outputs": [],
   "source": [
    "def function_name(parameters):\n",
    "    \"\"\"\n",
    "    Optional docstring to describe the function.\n",
    "    \"\"\"\n",
    "    # Code block to execute\n",
    "    return result  # Optional return statement"
   ]
  },
  {
   "cell_type": "code",
   "execution_count": null,
   "id": "d291a648-2cb9-412d-919f-b8cf3418b28b",
   "metadata": {},
   "outputs": [],
   "source": [
    "# Function with parameters\n",
    "def greet(name):\n",
    "    print(f\"Hello, {name}!\")\n",
    "\n",
    "# Calling the function with an argument\n",
    "greet(\"Alice\")\n",
    "\n",
    "# Function with a return value\n",
    "def add(a, b):\n",
    "    return a + b\n",
    "\n",
    "# Calling the function and using the returned value\n",
    "result = add(3, 5)\n",
    "print(result)\n",
    "\n",
    "# Function with a default parameter\n",
    "def greet(name=\"Guest\"):\n",
    "    print(f\"Hello, {name}!\")\n",
    "\n",
    "greet()         # Output: Hello, Guest!\n",
    "greet(\"Bob\")    # Output: Hello, Bob!\n",
    "\n",
    "# Function with keyword arguments\n",
    "def multiply(a, b):\n",
    "    return a * b\n",
    "\n",
    "# Calling the function with keyword arguments\n",
    "result = multiply(b=4, a=3)\n",
    "print(result)  # Output: 12\n",
    "\n",
    "# Function with *args\n",
    "# *args: Allows a function to accept an arbitrary number of positional arguments as a tuple.\n",
    "def print_numbers(*args):\n",
    "    for num in args:\n",
    "        print(num)\n",
    "\n",
    "print_numbers(1, 2, 3, 4)\n",
    "\n",
    "# **kwargs: Allows a function to accept an arbitrary number of keyword arguments as a dictionary.\n",
    "\n",
    "# Function with **kwargs\n",
    "def print_info(**kwargs):\n",
    "    for key, value in kwargs.items():\n",
    "        print(f\"{key}: {value}\")\n",
    "\n",
    "print_info(name=\"Alice\", age=30, city=\"New York\")\n",
    "\n",
    "# Lambda function example\n",
    "square = lambda x: x ** 2\n",
    "print(square(5))  # Output: 25"
   ]
  }
 ],
 "metadata": {
  "kernelspec": {
   "display_name": "Python 3",
   "language": "python",
   "name": "python3"
  },
  "language_info": {
   "codemirror_mode": {
    "name": "ipython",
    "version": 3
   },
   "file_extension": ".py",
   "mimetype": "text/x-python",
   "name": "python",
   "nbconvert_exporter": "python",
   "pygments_lexer": "ipython3",
   "version": "3.10.7"
  }
 },
 "nbformat": 4,
 "nbformat_minor": 5
}
